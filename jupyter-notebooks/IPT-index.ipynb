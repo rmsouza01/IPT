{
 "cells": [
  {
   "cell_type": "markdown",
   "metadata": {},
   "source": [
    "# IPT - Image Procesing Tools\n",
    "\n",
    "Main Developer: Roberto M de Souza, PhD (roberto.medeiros.souza@gmail.com)\n",
    "\n",
    "![capa](../Figures/max_tree.png)\n",
    "\n",
    "The goal of this repository is to share high quality Python/NumPy code focused on image processing. We don't want to reinvent the wheel. We will profit  from public image processing libraries, such as **scikit-image**, **OpenCV**, **siamxt** to develop most of our code and demos. Many demos will be focused on mathematical morphology tools and their application to image segmentation. We might even take larger risks and adventure ourselfs on machine learning applications in image processing.\n",
    "\n",
    "This index is composed of three parts:\n",
    "\n",
    "- Basic image processing demos\n",
    "- Advanced image processing demos\n",
    "- Image processing functions development"
   ]
  },
  {
   "cell_type": "markdown",
   "metadata": {},
   "source": [
    "## I - Basic Image Processing Demos\n",
    "- [Connected Component Analysis](connected-component-labeling.ipynb) \n",
    "\n",
    "\n",
    "\n",
    "## II - Advanced Image Processing Demos\n",
    "\n",
    "\n",
    "## III - Image Processing Functions\n",
    "\n",
    "\n",
    "\n"
   ]
  },
  {
   "cell_type": "code",
   "execution_count": null,
   "metadata": {
    "collapsed": true
   },
   "outputs": [],
   "source": []
  }
 ],
 "metadata": {
  "anaconda-cloud": {},
  "kernelspec": {
   "display_name": "Python 2",
   "language": "python",
   "name": "python2"
  },
  "language_info": {
   "codemirror_mode": {
    "name": "ipython",
    "version": 2
   },
   "file_extension": ".py",
   "mimetype": "text/x-python",
   "name": "python",
   "nbconvert_exporter": "python",
   "pygments_lexer": "ipython2",
   "version": "2.7.10"
  }
 },
 "nbformat": 4,
 "nbformat_minor": 1
}
